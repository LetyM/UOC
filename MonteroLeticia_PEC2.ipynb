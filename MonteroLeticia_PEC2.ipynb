{
 "cells": [
  {
   "cell_type": "markdown",
   "metadata": {},
   "source": [
    "<div style=\"width: 100%; clear: both;\">\n",
    "    <div style=\"float: left; width: 50%;\">\n",
    "       <img src=\"http://www.uoc.edu/portal/_resources/common/imatges/marca_UOC/UOC_Masterbrand.jpg\", align=\"left\">\n",
    "    </div>\n",
    "</div>\n",
    "\n",
    "<div style=\"float: right; width: 50%;\">\n",
    "    <p style=\"margin: 0; padding-top: 22px; text-align:right;\">22.503 · Programación para la ciencia de datos</p>\n",
    "    <p style=\"margin: 0; text-align:right;\">Grado en Ciencia de Datos Aplicada</p>\n",
    "    <p style=\"margin: 0; text-align:right; padding-button: 100px;\">Estudios de Informática, Multimedia y Telecomunicación</p>\n",
    "</div>\n",
    "\n",
    "</div>\n",
    "<div style=\"width: 100%; clear: both;\">\n",
    "<div style=\"width:100%;\">&nbsp;</div>"
   ]
  },
  {
   "cell_type": "markdown",
   "metadata": {},
   "source": [
    "Programación para la ciencia de datos - PEC2\n",
    "============================\n",
    "\n",
    "En este Notebook encontraréis un conjunto de ejercicios que suponen la segunda actividad de evaluación continua (PEC) de la asignatura.\n",
    "\n",
    "Para cada ejercicio, tened en cuenta que: \n",
    "* **Es necesario añadir comentarios** de vuestro código, que expliquen como habéis implementado la solución del problema planteado.\n",
    "* **Es imprescindible** citar las referencias que habéis consultado para realizar la actividad.\n",
    "* Se valorará que el código proporcionado solucione el problema propuesto y también la calidad del código (comentarios, legibilidad, claridad, uso de las estructuras de datos adecuadas, buena nomenclatura de las variables y funciones, seguimiento del PEP8, etc. ).\n",
    "\n",
    "Veréis que cada una de las actividades tiene asociada una puntuación, que indica el peso que tiene esa actividad sobre la nota de la PEC. Adicionalmente, hay una puntuación asociada a aspectos globales de la PEC (*docstring*, modularidad y estilo), que se evaluaran sobre la totalidad del código entregado. \n",
    "\n",
    "Además, veréis que todas las actividades tienen una etiqueta, que indica los recursos necesarios para llevarla a término. Hay tres posibles etiquetas: \n",
    "\n",
    "* <span style=\"font-family: Courier New; background-color: #82b74b; color: #000000; padding: 3px; \">SM</span> **Solo materiales**: las herramientas necesarias para realizar la actividad se pueden encontrar en los materiales de la asignatura (consideraremos también los materiales de la asignatura Fundamentos de Programación, así como las lecturas obligatorias de material externo que se indiquen en los notebooks).\n",
    "\n",
    "* <span style=\"font-family: Courier New; background-color: #ffcc5c; color: #000000; padding: 3px; \">EG</span> **Consulta externa guiada**: la actividad puede requerir el uso de herramientas que no se encuentren en los materiales de la asignatura, pero el enunciado contiene indicaciones de dónde o cómo encontrar la información adicional necesaria para resolver la actividad.\n",
    "\n",
    "* <span style=\"font-family: Courier New; background-color: #f2ae72; color: #000000; padding: 3px; \">EI</span> **Consulta externa independiente**: la actividad puede requerir el uso de herramientas que no se encuentren en los materiales de la asignatura, y el enunciado puede no incluir la descripción de dónde o cómo encontrar esta información adicional. Será necesario que el estudiante busque esta información usando los recursos explicados en la asignatura.\n",
    "\n",
    "Es importante notar que estas etiquetas no indican el nivel de dificultad del ejercicio, sino únicamente la necesidad de consulta de documentación externa para su resolución. Además, recordad que las **etiquetas son informativas**, pero podréis consultar referencias externas siempre que queráis (aunque no se indique explícitamente) o puede que podáis hacer una actividad sin consultar ningún tipo de documentación. Por ejemplo, para resolver una actividad que solo requiera los materiales de la asignatura, podéis consultar referencias externas si queréis, ¡ya sea tanto para ayudaros en su resolución como para ampliar conocimiento! \n",
    "\n",
    "---\n"
   ]
  },
  {
   "cell_type": "markdown",
   "metadata": {},
   "source": [
    "**Importante**: Además de la puntuación de cada ejercicio, que valora la calidad de la solución que proponéis y los resultados obtenidos, en esta PEC se valoran 3 aspectos adicionales, transversales a todas las actividades: \n",
    "\n",
    "* **Documentación** (**0.5*f puntos**): Todas las funciones de los ejercicios de esta PEC deberán estar correctamente documentadas utilizando *docstrings* (en el formato que prefiráis). \n",
    "\n",
    "* **Modularidad** (**1*f puntos**): Se valorará la modularidad del código (la correcta estructuración del código en funciones). \n",
    "\n",
    "* **Estilo** (**0.5*f puntos**): El código tiene que seguir la guía de estilo de Python (PEP8), exceptuando los casos donde hacerlo complique la legibilidad del código.\n",
    "\n",
    "Donde $f$ es la fracción de la PEC realizada. Es decir, la nota de estos aspectos transversales será proporcional a la parte de la PEC realizada.\n",
    "\n",
    "Así, los aspectos transversales tendrán una puntuación máxima de 2 puntos si se entregan todos los ejercicios de la PEC. En caso contrario, la nota de aspectos transversales se multiplicará por la fracción de la PEC entregada. Por ejemplo, si los aspectos transversales están puntuados con un 2 pero solo hay la mitad de la PEC entregada, la nota de aspectos transversales será $2*0.5=1$."
   ]
  },
  {
   "cell_type": "code",
   "execution_count": 1,
   "metadata": {},
   "outputs": [],
   "source": [
    "%load_ext pycodestyle_magic"
   ]
  },
  {
   "cell_type": "code",
   "execution_count": 2,
   "metadata": {},
   "outputs": [],
   "source": [
    "# Activamos las alertas de estilo\n",
    "%pycodestyle_on"
   ]
  },
  {
   "cell_type": "markdown",
   "metadata": {},
   "source": [
    "# Ejercicio 1\n",
    "\n",
    "Contestad con Cierto / Falso las siguientes preguntas y razonad brevemente vuestra respuesta.\n",
    "\n",
    "<span style=\"font-family: Courier New; background-color: #82b74b; color: #000000; padding: 3px; \">SM</span> **(0.5 puntos)**\n"
   ]
  },
  {
   "cell_type": "markdown",
   "metadata": {},
   "source": [
    "*(a) Al llamar a una función, tenemos que pasar exactamente el mismo número de argumentos como parámetros tenga definida la función.*"
   ]
  },
  {
   "cell_type": "markdown",
   "metadata": {},
   "source": [
    "**Respuesta:**\n",
    "Falso, la función puede tener argumentos opcionales que podemos no pasarle. Por ejemplo, al leer un csv con .read_csv() no es obligatorio especificar el delimitador."
   ]
  },
  {
   "cell_type": "markdown",
   "metadata": {},
   "source": [
    "*(b) En el siguiente bloque de código utilizamos el paso por referencia de objeto y por lo tanto, la variable `*args` se podría ver afectada si intentamos asignarle un nuevo valor dentro del cuerpo de la función.*"
   ]
  },
  {
   "cell_type": "code",
   "execution_count": 17,
   "metadata": {},
   "outputs": [],
   "source": [
    "def foo(*args):\n",
    "    acc = 0\n",
    "    acc_sum = [acc + arg for arg in args]\n",
    "    return sum(acc_sum)"
   ]
  },
  {
   "cell_type": "markdown",
   "metadata": {},
   "source": [
    "**Respuesta:**\n",
    "Cierto, si le _asignamos_ un nuevo valor a 'args', este se aplicará dentro de la función (eso sí, únicamente _dentro_ de la función). Lo ejemplificamos en el código siguiente:"
   ]
  },
  {
   "cell_type": "code",
   "execution_count": 5,
   "metadata": {},
   "outputs": [
    {
     "name": "stdout",
     "output_type": "stream",
     "text": [
      "El valor inicial del argumento es: 1\n",
      "El nuevo valor del argumento (en la función) es: (3, 4)\n",
      "El valor del argumento tras pasar por la función es: 1\n",
      "Resultado de foo: 7\n"
     ]
    }
   ],
   "source": [
    "# Copiamos la función original y asignamos dentro un nuevo valor a la\n",
    "# variable 'args' dentro de la función\n",
    "def foo(*args):\n",
    "    acc = 0\n",
    "    args = (3, 4)\n",
    "    print(\"El nuevo valor del argumento (en la función) es: {}\".format(args))\n",
    "    acc_sum = [acc + arg for arg in args]\n",
    "    return sum(acc_sum)\n",
    "\n",
    "\n",
    "# Asignamos un valor inicial a la variable que pasaremos como argumento\n",
    "a = 1\n",
    "# Mostramos el valor de 'a'\n",
    "print(\"El valor inicial del argumento es: {}\".format(a))\n",
    "# Pasamos 'a' como argumento\n",
    "foo_a = foo(a)\n",
    "# Mostramos nuevamente el valor de 'a' y comprobamos que, al salir,\n",
    "# es igual al original aunque dentro de la misma había cambiado\n",
    "print(\"El valor del argumento tras pasar por la función es: {}\".format(a))\n",
    "# La función foo toma como valor para 'args' el que hemos definido dentro,\n",
    "# afectando al resultado que devuelve (pasa a ser 7 en vez de 1)\n",
    "print(\"Resultado de foo: {}\".format(foo_a))"
   ]
  },
  {
   "cell_type": "markdown",
   "metadata": {},
   "source": [
    "# Ejercicio 2\n",
    "\n",
    "Queremos crear una función que compruebe si un año es un [año bisiesto](https://es.wikipedia.org/wiki/A%C3%B1o_bisiesto) o no.\n",
    "\n",
    "La función recibirá dos parámetros:\n",
    "- el año que queremos comprobar,\n",
    "- un parámetro **opcional** que nos indique si queremos que la función muestre la razón por la cual el año no se considera un año bisiesto (en el caso que el año lo sea, la función no deberá mostrar ningún mensaje).\n",
    "\n",
    "El tipo de retorno de la función será *Boolean (True / False)*.\n",
    "\n",
    "Según el calendario Gregoriano, un año se considera año bisiesto si cumple las siguientes condiciones:\n",
    "- Si 4 es un divisor del año, es un año bisiesto, excepto\n",
    " - Si 100 también es un divisor del año, en cuyo caso el año **NO** se considera bisiesto, excepto\n",
    "   - Si 400 también es un divisor del año, en cuyo caso el año **SÍ** se considera bisiesto.\n",
    "   \n",
    "Por ejemplo, a continuación podéis ver algunos ejemplos del resultado esperado en función del año.\n",
    "\n",
    "2000 -> True\n",
    "\n",
    "1800 -> False\n",
    "\n",
    "2100 -> False\n",
    "\n",
    "**Nota**. **No podéis utilizar la función `isleap` que hemos visto en la Unidad 1**. Aplicad la función implementada a los años indicados en la celda inferior y comprobad que el resultado es el mismo que el resultado obtenido si utilizamos la función `isleap` de Python.\n",
    "\n",
    "<span style=\"font-family: Courier New; background-color: #82b74b; color: #000000; padding: 3px; \">SM</span> **(1 punto)**"
   ]
  },
  {
   "cell_type": "code",
   "execution_count": 6,
   "metadata": {},
   "outputs": [],
   "source": [
    "# Respuesta\n",
    "years = [1800, 1996, 2000, 2101, 2400]"
   ]
  },
  {
   "cell_type": "code",
   "execution_count": 15,
   "metadata": {},
   "outputs": [],
   "source": [
    "# Definimos una funcion que devuelva si un año es bisiesto o no y,\n",
    "# opcionalmente, el motivo en caso de no serlo\n",
    "def leap(year, mssg=False):\n",
    "    \"\"\"Devuelve si el año es bisiesto o no.\n",
    "\n",
    "    Dado un año, la función devuelve si es bisiesto o no y, opcionalmente,\n",
    "    el motivo en caso de no serlo.\n",
    "\n",
    "    Argumentos:\n",
    "    year -> año\n",
    "    mssg -> opción de mostrar el motivo\n",
    "\n",
    "    Resultado:\n",
    "    True si es bisiesto, False en caso contrario\n",
    "    \"\"\"\n",
    "    if not year % 400:\n",
    "        return True\n",
    "    if not year % 4 and not year % 100:\n",
    "        if mssg:\n",
    "            print(\"El año {} es divisible entre 4 pero también entre 100\"\n",
    "                  .format(year))\n",
    "        return False\n",
    "    if not year % 4:\n",
    "        return True\n",
    "    if mssg:\n",
    "        print(\"El año {} no es divisible entre 4\".format(year))\n",
    "    return False"
   ]
  },
  {
   "cell_type": "code",
   "execution_count": 16,
   "metadata": {},
   "outputs": [
    {
     "name": "stdout",
     "output_type": "stream",
     "text": [
      "El año 1800 es divisible entre 4 pero también entre 100\n",
      "¿El año 1800 es bisiesto?: False\n",
      "\n",
      "¿El año 1996 es bisiesto?: True\n",
      "\n",
      "¿El año 2000 es bisiesto?: True\n",
      "\n",
      "El año 2101 no es divisible entre 4\n",
      "¿El año 2101 es bisiesto?: False\n",
      "\n",
      "¿El año 2400 es bisiesto?: True\n",
      "\n"
     ]
    }
   ],
   "source": [
    "# Aplicamos la función a la lista de años\n",
    "for year in years:\n",
    "    print(\"¿El año {} es bisiesto?: {}\\n\".format(year, leap(year, True)))"
   ]
  },
  {
   "cell_type": "code",
   "execution_count": 18,
   "metadata": {},
   "outputs": [
    {
     "name": "stdout",
     "output_type": "stream",
     "text": [
      "¿El año 1800 es bisiesto?: False\n",
      "\n",
      "¿El año 1996 es bisiesto?: True\n",
      "\n",
      "¿El año 2000 es bisiesto?: True\n",
      "\n",
      "¿El año 2101 es bisiesto?: False\n",
      "\n",
      "¿El año 2400 es bisiesto?: True\n",
      "\n"
     ]
    }
   ],
   "source": [
    "# Importamos la función 'isleap'\n",
    "from calendar import isleap\n",
    "\n",
    "# Comprobamos que obtenemos los mismos resultados utilizando 'isleap'\n",
    "for year in years:\n",
    "    print(\"¿El año {} es bisiesto?: {}\\n\".format(year, isleap(year)))"
   ]
  },
  {
   "cell_type": "markdown",
   "metadata": {},
   "source": [
    "# Ejercicio 3\n",
    "\n",
    "Queremos crear una función que valide una lista de direcciones de correo electrónico de un fichero.\n",
    "\n",
    "La función recibirá como *input* la ruta de un fichero que contiene las direcciones de correo electrónico y su *output* será una tupla con el formato `(numero_direcciones, lista_direcciones)`, donde\n",
    "\n",
    "- `numero_direcciones` indica el número de direcciones de correo electrónico que **NO** son válidas.\n",
    "- `lista_direcciones` indica el listado de direcciones de correo electrónico no válidas ordenadas alfabéticamente. Tendríamos que ser capaces de ocultar este segundo elemento de la tupla en base a un input de la función.\n",
    "\n",
    "A continuación podéis ver algunos ejemplos de formatos de salida de la función.\n",
    "\n",
    "```\n",
    "(3,)\n",
    "(3, ['hello@icloud', 'g@sbcglobal.global', 'foo@*bar*.com'])\n",
    "```\n",
    "\n",
    "Consideramos que una dirección de correo es válida si cumple las siguientes condiciones:\n",
    "- Sigue el formato `<nombre_usuario>@<dominio>.<extensión>`\n",
    "- El nombre de usuario (`<nombre_usuario>`) únicamente  contiene caracteres alfanuméricos o los caracteres `_` (barra baja) o `-` (guión)\n",
    "- El nombre del dominio (`<dominio>`) únicamente contiene caracteres alfanuméricos\n",
    "- La extensión (`<extensión>`) únicamente contiene caracteres del alfabeto latino\n",
    "- La longitud máxima para la extensión (`<extensión>`) es de 3 caracteres\n",
    "\n",
    "El formato del fichero de entrada será:\n",
    "```\n",
    "Dirección 1\n",
    "Dirección 2\n",
    "...\n",
    "Dirección N\n",
    "```\n",
    "\n",
    "Es decir, cada línea del fichero nos indica una dirección de correo electrónico a validar.\n",
    "\n",
    "Podéis encontrar ejemplos de fichero de entrada en la carpeta `data/ex3`, pero os animamos a que creéis también vuestros propios ficheros para probar la implementación de vuestra función.\n",
    "\n",
    "**Nota**. Utilizad los principios de *programación funcional* que hemos visto en el Notebook de teoría para resolver este ejercicio.\n",
    "\n",
    "<span style=\"font-family: Courier New; background-color: #82b74b; color: #000000; padding: 3px; \">SM</span> **(2 puntos)**\n"
   ]
  },
  {
   "cell_type": "code",
   "execution_count": 34,
   "metadata": {},
   "outputs": [],
   "source": [
    "# Respuesta\n",
    "import re\n",
    "\n",
    "\n",
    "# Definimos una función que compruebe si un string  NO es\n",
    "# una dirección de correo válida\n",
    "def mail_ko(string):\n",
    "    \"\"\"Indica si una dirección de correo es correcta o incorrecta.\"\"\"\n",
    "    # Primero comprobamos que contenga el caracter '@'\n",
    "    if re.search('@', string):\n",
    "        sub_str_1 = string.split('@')\n",
    "        name = sub_str_1[0]\n",
    "        # Ahora comprobamos que contenga un punto\n",
    "        if re.search(r'\\.', sub_str_1[1]):\n",
    "            domain = sub_str_1[1].split('.')[0]\n",
    "            ext = sub_str_1[1].split('.')[1]\n",
    "            return not (\n",
    "                (lambda x: re.compile('^[a-zA-Z0-9_-]+$').match(string))(name),\n",
    "                (lambda x: re.compile('^[a-zA-Z0-9]+$').match(string))(domain),\n",
    "                (lambda x:\n",
    "                 re.compile('^[a-zA-Z0-9]+$').match(string)\n",
    "                 and len(string) < 4)(ext))\n",
    "    return True\n",
    "\n",
    "\n",
    "# Definimos, finalmente, una función que, dada la ruta de un documento,\n",
    "# devuelva el número de correos incorrectos y la lista de los mismos\n",
    "def mails_ko(root, printlist=True):\n",
    "    \"\"\"Cuenta y lista los correos incorrectos.\n",
    "\n",
    "    Dada una ruta de fichero, cuenta cuantos de ellos son incorrectos.\n",
    "    Opcionalmente, muestra la lista de los mismos.\n",
    "    \"\"\"\n",
    "    with open(root, 'r') as file:\n",
    "        content_lines = file.read().splitlines()\n",
    "        mails_ko = list(filter(mail_ko, content_lines))\n",
    "        if printlist:\n",
    "            return len(mails_ko), sorted(mails_ko)\n",
    "        return (len(mails_ko),)"
   ]
  },
  {
   "cell_type": "code",
   "execution_count": 35,
   "metadata": {},
   "outputs": [
    {
     "name": "stdout",
     "output_type": "stream",
     "text": [
      "(1, ['bastian@icloud'])\n"
     ]
    }
   ],
   "source": [
    "# Leemos sample1 que nos servirá de ejemplo\n",
    "print(mails_ko('./data/ex3/sample1.txt'))"
   ]
  },
  {
   "cell_type": "code",
   "execution_count": 36,
   "metadata": {},
   "outputs": [
    {
     "name": "stdout",
     "output_type": "stream",
     "text": [
      "(0,)\n"
     ]
    }
   ],
   "source": [
    "# Leemos sample2 que nos servirá de ejemplo\n",
    "print(mails_ko('./data/ex3/sample2.txt', False))"
   ]
  },
  {
   "cell_type": "code",
   "execution_count": 37,
   "metadata": {},
   "outputs": [
    {
     "name": "stdout",
     "output_type": "stream",
     "text": [
      "(3, ['__muzzy__@@optonline.net', '_mleary!@sbcglobal', 'smpeters2$mac$com'])\n"
     ]
    }
   ],
   "source": [
    "# Leemos sample3 que nos servirá de ejemplo\n",
    "print(mails_ko('./data/ex3/sample3.txt'))"
   ]
  },
  {
   "cell_type": "markdown",
   "metadata": {},
   "source": [
    "# Ejercicio 4\n",
    "\n",
    "Queremos crear una función que nos cree una estructura ordenada de ficheros a partir de un fichero de entrada con estadísticas de los puntos obtenidos por diversos usuarios en partidas de bolos.\n",
    "\n",
    "El fichero de entrada tendrá un número indeterminado de líneas con el siguiente formato:\n",
    "```\n",
    "<nombre_usuario> <fecha_partida> <puntos_obtenidos>\n",
    "```\n",
    "\n",
    "donde\n",
    "\n",
    "- `<nombre_usuario>`: puede contener caracteres alfanuméricos\n",
    "- `<fecha_partida>`: seguirá el formato `YYYY-MM-DD`\n",
    "- `<puntos_obtenidos>`: será un número entero que indicará el número de puntos obtenidos en la partida\n",
    "\n",
    "La salida esperada es una estructura de directorios y ficheros como la descrita a continuación:\n",
    "\n",
    "```\n",
    "<directorio_raíz>\n",
    "\n",
    "    <nombre_usuario>\n",
    "\n",
    "        <fecha_partida>\n",
    "            scores.txt\n",
    "\n",
    "        <fecha_partida>\n",
    "            scores.txt\n",
    "            \n",
    "        ...\n",
    "        \n",
    "    <nombre_usuario>\n",
    "    \n",
    "    ...\n",
    "```\n",
    "\n",
    "Tenemos que agrupar los datos del fichero original por el nombre de usuario y por la fecha de la partida (un mismo usuario puede jugar más de una partida en un mismo día). El fichero `scores.txt` deberá tener el siguiente formato:\n",
    "```\n",
    "Total: <suma>\n",
    "Partida #1: <puntos_obtenidos>\n",
    "Partida #2: <puntos_obtenidos>\n",
    "...\n",
    "Partida #N: <puntos_obtenidos>\n",
    "```\n",
    "\n",
    "donde tenemos que sustituir `<suma>` por la suma total de puntos para todas las partidas del día y `<puntos_obtenidos>` por los puntos obtenidos en cada partida individual. El directorio a partir del cual se va a generar dicha estructura deberá ser un parámetro de la función.\n",
    "\n",
    "Podéis encontrar un ejemplo del fichero de entrada en la carpeta `data/ex4`, pero os animamos a que creéis también vuestros propios ficheros para probar la implementación de vuestra función.\n",
    "\n",
    "<span style=\"font-family: Courier New; background-color: #82b74b; color: #000000; padding: 3px; \">SM</span> **(3 puntos)**\n"
   ]
  },
  {
   "cell_type": "code",
   "execution_count": 100,
   "metadata": {},
   "outputs": [],
   "source": [
    "# Respuesta\n",
    "import os\n",
    "from collections import defaultdict\n",
    "\n",
    "\n",
    "def bowls_info(file, directory):\n",
    "    \"\"\"Crea una esctrutura de directorios y ficheros con las puntuaciones\"\"\"\n",
    "    # Leemos el fichero y lo separamos por líneas\n",
    "    file_content = file.read().splitlines()\n",
    "\n",
    "    # Definimos un par de diccionarios anidados para almacenar la información\n",
    "    content_dict = defaultdict(lambda: defaultdict(list))\n",
    "    # Introducimos la información en el diccionario anidado:\n",
    "    # Para cada usuario, para cada fecha, las puntuaciones.\n",
    "    for i in file_content:\n",
    "        isplit = i.split(' ')\n",
    "        content_dict[isplit[0]][isplit[1]].append(int(isplit[2]))\n",
    "\n",
    "    # Ahora recorremos el diccionario creando las carpetas\n",
    "    for user, dates in content_dict.items():\n",
    "        for date in dates.keys():\n",
    "            # Creamos el directorio\n",
    "            user_folder = os.path.join(directory, user, date, \"\")\n",
    "            os.makedirs(user_folder, exist_ok=True)\n",
    "            # Escribimos la información en el fichero 'scores'\n",
    "            full_path = os.path.join(user_folder, \"scores.txt\")\n",
    "            with open(full_path, 'w') as s:\n",
    "                actual_cont = content_dict[user][date]\n",
    "                total_text = \"Total: {}\\n\".format(str(sum(actual_cont)))\n",
    "                s.write(total_text)\n",
    "                for i in range(0, len(actual_cont)):\n",
    "                    part_text = \"Partida #{}: {}\\n\".format(i+1,\n",
    "                                                           str(actual_cont[i]))\n",
    "                    s.write(part_text)"
   ]
  },
  {
   "cell_type": "code",
   "execution_count": 107,
   "metadata": {},
   "outputs": [],
   "source": [
    "# Probamos la función con una lista de puntuaciones\n",
    "file = open('./data/ex4/scores_unfiltered.txt', 'r')\n",
    "bowls_info(file, 'bowls')\n",
    "file.close()"
   ]
  },
  {
   "cell_type": "markdown",
   "metadata": {},
   "source": [
    "La siguiente función os puede resultar útil a la hora de inspeccionar el contenido generado para un determinado directorio."
   ]
  },
  {
   "cell_type": "code",
   "execution_count": 8,
   "metadata": {},
   "outputs": [],
   "source": [
    "import os\n",
    "\n",
    "def print_directory_contents(target_directory):\n",
    "    \"\"\"Print target directory contents.\n",
    "    \n",
    "    Keyword arguments:\n",
    "    target_directory -- target directory whose contents are printed\n",
    "    \"\"\"\n",
    "    # Helper function that prints all the directories and files in a given target directory\n",
    "    for root, dirs, files in os.walk(target_directory):\n",
    "            for directory in dirs: \n",
    "                print(os.path.join(root, directory))\n",
    "            for file in files: \n",
    "                print(os.path.join(root, file))"
   ]
  },
  {
   "cell_type": "code",
   "execution_count": 15,
   "metadata": {},
   "outputs": [],
   "source": [
    "print_directory_contents('bowls')"
   ]
  },
  {
   "cell_type": "markdown",
   "metadata": {},
   "source": [
    "# Ejercicio 5\n",
    "\n",
    "Dada la estructura de ficheros del ejercicio anterior, queremos crear una función que nos comprima las estadísticas más antiguas que un **determinado número de días**.\n",
    "\n",
    "Por ejemplo, si queremos archivar todas las estadísticas de partidas que hemos jugado hace más de 7 días, deberemos comprimir todos aquellos directorios con el formato `YYYY-MM-DD` que correspondan a una fecha anterior a la fecha resultante de restar 7 días a la fecha actual.\n",
    "\n",
    "El usuario debería poder escoger el formato de compresión que será o bien un ZIP o bien el formato [TAR](https://es.wikipedia.org/wiki/Tar) junto con el método de compresión [gzip](https://es.wikipedia.org/wiki/Gzip). Por defecto, la función deberá comprimir los directorios utilizando ZIP.\n",
    "\n",
    "Por lo tanto, la estructura de directorios anterior podría tener un aspecto similar a:\n",
    "\n",
    "```\n",
    "<directorio_raíz>\n",
    "\n",
    "    <nombre_usuario>\n",
    "\n",
    "        <fecha_partida>\n",
    "            scores.txt\n",
    "\n",
    "        <fecha_partida>.<formato_compresión>\n",
    "            \n",
    "        ...\n",
    "        \n",
    "    <nombre_usuario>\n",
    "    \n",
    "        <fecha_partida>.<formato_compresión>\n",
    "        \n",
    "        ...\n",
    "```\n",
    "\n",
    "donde `<formato_compresión>` será `zip` o `tar.gz` en función del formato escogido.\n",
    "\n",
    "**Nota 1.** En Python disponemos del módulo `tarfile` que nos permite trabajar con archivos empaquetados con el formato *tar* a la vez que permite la lectura / escritura de ficheros utilizando diversos algoritmos de compresión. Podéis encontrar más información sobre este módulo en el siguiente [enlace](https://docs.python.org/3/library/tarfile.html#module-tarfile). Deberéis encontrar las funciones equivalentes al módulo *zipfile* para crear un archivo comprimido utilizando *gzip* y para añadir el contenido de un directorio.\n",
    "\n",
    "**Nota 2.** Tenemos que eliminar las carpetas que se comprimen. Es decir, si para un usuario determinamos que tenemos que comprimir una carpeta `2020-09-11`, al ejecutar la función, generaremos el fichero comprimido `2020-09-11.{zip|tar.gz}` y eliminaremos la carpeta original `2020-09-11`.\n",
    "\n",
    "**Nota 3.** Tenemos que crear un archivo comprimido para cada carpeta `<fecha_partida>`. No hay que agrupar las carpetas que corresponden a partidas más antiguas del número de días especificado.\n",
    "\n",
    "<span style=\"font-family: Courier New; background-color: #ffcc5c; color: #000000; padding: 3px; \">EG</span> **(1.5 puntos)**"
   ]
  },
  {
   "cell_type": "code",
   "execution_count": 23,
   "metadata": {},
   "outputs": [],
   "source": [
    "# Respuesta\n",
    "import datetime\n",
    "import os\n",
    "import tarfile as tr\n",
    "import zipfile as zf\n",
    "import shutil\n",
    "\n",
    "\n",
    "# Definimos una función que, dado un directorio y un número de días n\n",
    "# nos devuelva una lista con los ficheros con fecha de hace más de n días\n",
    "def ndays_before_list(directory, ndays):\n",
    "    \"\"\"Devuelve una lista de directorios con fecha más antigua que n días.\"\"\"\n",
    "    # Sacamos una lista con las carpetas de fechas\n",
    "    folders = os.listdir(directory)\n",
    "    # Pasamos a formato fecha las fechas\n",
    "    dates_folders = list(\n",
    "                          map(\n",
    "                              lambda x:\n",
    "                              datetime.datetime.strptime(x, \"%Y-%m-%d\").date(),\n",
    "                              folders))\n",
    "    # Tomamos la fecha actual\n",
    "    now_date = datetime.date.today()\n",
    "    # Calculamos la delta con los n días\n",
    "    d = datetime.timedelta(days=-ndays)\n",
    "    # Calculamos la fecha a partir de la cual vamos a filtrar\n",
    "    before_date = now_date + d\n",
    "    # Nos quedamos con las fechas que cumplen la condición\n",
    "    dates_before = list(filter(lambda x: x < before_date, dates_folders))\n",
    "    # Pasamos nuevamente las fechas a formato string\n",
    "    folders_before = list(\n",
    "                            map(\n",
    "                                lambda x:\n",
    "                                datetime.datetime.strftime(x, \"%Y-%m-%d\"),\n",
    "                                dates_before))\n",
    "    return folders_before\n",
    "\n",
    "\n",
    "# Definimos una función que comprima en .tar.gz el contenido de una carpeta\n",
    "# y borre la carpeta original\n",
    "# Nos permite elegir el tipo de compresion, zip o tar\n",
    "def zip_and_remove(directory, form):\n",
    "    \"\"\"Comprime la carpeta del directorio y borra la carpeta original.\"\"\"\n",
    "    # Comprimimos en función del formato seleccionado\n",
    "    if form == 'zip':\n",
    "        # Hacemos la compresión zip\n",
    "        comprss = zf.ZIP_DEFLATED\n",
    "        with zf.ZipFile(directory + \".zip\", 'w', compression=comprss) as zip_f:\n",
    "            zip_f.write(directory + \"/scores.txt\")\n",
    "        # Borramos el directorio original\n",
    "        shutil.rmtree(directory)\n",
    "    elif form == 'tar':\n",
    "        # Hacemos la compresión tar\n",
    "        with tr.open(directory + \".tar.gz\", 'w:gz') as tar_f:\n",
    "            tar_f.add(directory)\n",
    "        # Borramos el directorio original\n",
    "        shutil.rmtree(directory)\n",
    "    else:\n",
    "        # Avisamos de que no se ha seleccionado un formato correcto\n",
    "        print(\"Formato de compresion no válido. Seleccione 'zip' o 'tar'\")\n",
    "\n",
    "\n",
    "# Definimos una función que, dado un directorio \"raiz\" y un número n de días,\n",
    "# aplique la función anterior a todos los directorios de usuario\n",
    "# y comprima las carpetas seleccionadas\n",
    "def zip_old_folders(directory, ndays, form='zip'):\n",
    "    \"\"\"Comprime las carpetas con fecha más antigua que n días.\n",
    "\n",
    "    Dado un directorio, comprime las carpetas antiguas con el\n",
    "    formato seleccionado. En caso de no indicar formato, será\n",
    "    .zip\n",
    "    \"\"\"\n",
    "    # Sacamos una lista con las carpetas de usuarios\n",
    "    folders = os.listdir(directory)\n",
    "    # Recorremos la lista de carpetas de usuario,\n",
    "    # sacamos la lista de carpetas de fecha y las comprimimos\n",
    "    for user in folders:\n",
    "        user_path = os.path.join(directory, user)\n",
    "        folders_before = ndays_before_list(user_path, ndays)\n",
    "\n",
    "        # Comprimimos las carpetas de la lista\n",
    "        for date in folders_before:\n",
    "            date_path = os.path.join(directory, user, date)\n",
    "            zip_and_remove(date_path, form)"
   ]
  },
  {
   "cell_type": "code",
   "execution_count": 106,
   "metadata": {},
   "outputs": [],
   "source": [
    "# Probamos la función con un directorio, días y formato concretos\n",
    "zip_old_folders('bowls', 60, 'tar')"
   ]
  },
  {
   "cell_type": "markdown",
   "metadata": {},
   "source": [
    "## Referencias\n",
    "\n",
    "Además de las unidades 2 y 3 del curso, han sido de utilidad los siguientes recursos:\n",
    "\n",
    "**Consultas**\n",
    "\n",
    "- **_regex alphanumeric_** https://stackoverflow.com/questions/336210/regular-expression-for-alphanumeric-and-underscores\n",
    "\n",
    "- **_splitlines_** https://www.kite.com/python/answers/how-to-split-a-string-using-a-newline-delimiter-in-python\n",
    "\n",
    "- **_sorted list_** https://stackoverflow.com/questions/14032521/python-data-structure-sort-list-alphabetically\n",
    "\n",
    "- **_nested defaultdicts_** https://howchoo.com/python/nested-defaultdict-python#nested-defaultdicts\n",
    "\n",
    "- **_listdir()_** https://stackoverflow.com/questions/3207219/how-do-i-list-all-files-of-a-directory\n",
    "\n",
    "- **_tar compression_** https://stackoverflow.com/questions/2032403/how-to-create-full-compelseressed-tar-file-using-python"
   ]
  }
 ],
 "metadata": {
  "kernelspec": {
   "display_name": "Python 3",
   "language": "python",
   "name": "python3"
  },
  "language_info": {
   "codemirror_mode": {
    "name": "ipython",
    "version": 3
   },
   "file_extension": ".py",
   "mimetype": "text/x-python",
   "name": "python",
   "nbconvert_exporter": "python",
   "pygments_lexer": "ipython3",
   "version": "3.8.3"
  },
  "pycharm": {
   "stem_cell": {
    "cell_type": "raw",
    "metadata": {
     "collapsed": false
    },
    "source": []
   }
  }
 },
 "nbformat": 4,
 "nbformat_minor": 2
}
